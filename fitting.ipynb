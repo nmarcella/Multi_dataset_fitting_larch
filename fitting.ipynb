{
 "cells": [
  {
   "cell_type": "code",
   "execution_count": 36,
   "metadata": {},
   "outputs": [],
   "source": [
    "import importlib\n",
    "import main\n",
    "importlib.reload(main)\n",
    "from main import *\n"
   ]
  },
  {
   "cell_type": "markdown",
   "metadata": {},
   "source": [
    "## Preprocessing parameters"
   ]
  },
  {
   "cell_type": "code",
   "execution_count": 55,
   "metadata": {},
   "outputs": [],
   "source": [
    "# The locaton of the EXAFS data\n",
    "EXAFS_dir = \"./Processed_EXAFS\"\n",
    "# The location of the FEFF calculations\n",
    "FEFF_dir = \"./FEFF\"\n",
    "\n",
    "gas_temp_regex = r\"_(N2|CO|O2|He|H2)_(RT|\\d+)\"\n",
    "\n",
    "\n",
    "assignment_dict = {\n",
    "    'gas': 0,  # Assuming the first match is gas\n",
    "    'temp': 1,       # The second match is the temp\n",
    "}\n",
    "\n",
    "pre_edge_kws: dict = {\n",
    "    \"e0\": 11564,\n",
    "    \"step\": None,\n",
    "    \"nnorm\": 3,\n",
    "    \"nvict\": 0,\n",
    "    \"pre1\": -150,\n",
    "    \"pre2\": -30,\n",
    "    \"norm1\": 150,\n",
    "    \"norm2\": 860,\n",
    "}\n",
    "\n",
    "autobk_kws: dict = {\"rbkg\": 1.2, \"kmax\": 16, \"kweight\": 2}\n",
    "\n",
    "xftf_kws: dict = {\"kmin\": 2.5, \"kmax\": 12, \"dk\": 2, \"window\": \"hanning\"}\n"
   ]
  },
  {
   "cell_type": "markdown",
   "metadata": {},
   "source": [
    "## Locate EXAFS data"
   ]
  },
  {
   "cell_type": "code",
   "execution_count": 41,
   "metadata": {},
   "outputs": [
    {
     "name": "stdout",
     "output_type": "stream",
     "text": [
      "['./Processed_EXAFS/11_CO_175.dat', './Processed_EXAFS/13_CO_225.dat', './Processed_EXAFS/3_H2_300_initial.dat', './Processed_EXAFS/4_He_RT_after_H2.dat', './Processed_EXAFS/10_CO_150.dat', './Processed_EXAFS/15_CO_275.dat', './Processed_EXAFS/14_CO_250.dat', './Processed_EXAFS/16_CO_300.dat', './Processed_EXAFS/7_CO_75.dat', './Processed_EXAFS/12_CO_200.dat', './Processed_EXAFS/1_O2_300.dat', './Processed_EXAFS/2_He_RT_after_O2.dat', './Processed_EXAFS/8_CO_100.dat', './Processed_EXAFS/9_CO_125.dat', './Processed_EXAFS/0_N2_RT_initial.dat', './Processed_EXAFS/6_CO_50.dat', './Processed_EXAFS/5_CO_RT.dat']\n"
     ]
    }
   ],
   "source": [
    "all_exafs_data = glob.glob(EXAFS_dir + \"/*.dat\")\n",
    "print(all_exafs_data)"
   ]
  },
  {
   "cell_type": "markdown",
   "metadata": {},
   "source": [
    "## Create Larch Groups"
   ]
  },
  {
   "cell_type": "code",
   "execution_count": 42,
   "metadata": {},
   "outputs": [],
   "source": [
    "# 1 group\n",
    "new_group = read_data(\n",
    "    fname=all_exafs_data[0], \n",
    "    regex=gas_temp_regex, \n",
    "    skip=1, \n",
    "    assignment_dict=assignment_dict,\n",
    "    pre_edge_kws= pre_edge_kws,\n",
    "    autobk_kws= autobk_kws,\n",
    "    xftf_kws= xftf_kws\n",
    ")"
   ]
  },
  {
   "cell_type": "code",
   "execution_count": 56,
   "metadata": {},
   "outputs": [],
   "source": [
    "# multiple groups\n",
    "groups = read_multiple_spectra(\n",
    "    all_exafs_data, \n",
    "    regex=gas_temp_regex, \n",
    "    skip=1, \n",
    "    assignment_dict=assignment_dict,\n",
    "    pre_edge_kws= pre_edge_kws,\n",
    "    autobk_kws= autobk_kws,\n",
    "    xftf_kws= xftf_kws\n",
    ")"
   ]
  },
  {
   "cell_type": "markdown",
   "metadata": {},
   "source": [
    "## Fitting parameters"
   ]
  },
  {
   "cell_type": "code",
   "execution_count": 59,
   "metadata": {},
   "outputs": [],
   "source": [
    "parm_dict = {\n",
    "    \"SO2\": {\"initial\": 0.76, \"vary\": False, \"global\": True},\n",
    "    \"dele\": {\"initial\": 0.0, \"vary\": True, \"global\": True},\n",
    "    \"ss2\": {\"initial\": 0.003, \"vary\": True, \"global\": False},\n",
    "    \"N\": {\"initial\": 11.0, \"vary\": True, \"global\": True},\n",
    "    \"delr\": {\"initial\": 0.0, \"vary\": True, \"global\": False},\n",
    "    \"th\": {\"initial\": 0.0, \"vary\": True, \"global\": False},\n",
    "}\n",
    "\n",
    "fit_range_param = {\n",
    "    \"kmin\": 2.5,\n",
    "    \"kmax\": 12,\n",
    "    \"kw\": 3,\n",
    "    \"dk\": 3,\n",
    "    \"window\": \"hanning\",\n",
    "    \"rmin\": 1.7,\n",
    "    \"rmax\": 3.3,\n",
    "}"
   ]
  },
  {
   "cell_type": "code",
   "execution_count": 61,
   "metadata": {},
   "outputs": [
    {
     "name": "stdout",
     "output_type": "stream",
     "text": [
      "./FEFF\n",
      "./FEFF/files.dat\n",
      "Feffit Warning: unused variables: delr_100, delr_150, delr_175, delr_200, delr_225, delr_250, delr_275, delr_300, delr_50, delr_75, delr_RT, ss2_100, ss2_150, ss2_175, ss2_200, ss2_225, ss2_250, ss2_275, ss2_300, ss2_50, ss2_75, ss2_RT, th_100, th_150, th_175, th_200, th_225, th_250, th_275, th_300, th_50, th_75, th_RT\n"
     ]
    }
   ],
   "source": [
    "# SiO2\n",
    "dset, out, report, paths = run_fit(\n",
    "    groups, parm_dict, FEFF_dir, 0, fit_range_param, write=True, save_name=\"./fitting_output/fit.out\"\n",
    ")"
   ]
  },
  {
   "cell_type": "code",
   "execution_count": null,
   "metadata": {},
   "outputs": [],
   "source": []
  }
 ],
 "metadata": {
  "kernelspec": {
   "display_name": "xraylarch",
   "language": "python",
   "name": "python3"
  },
  "language_info": {
   "codemirror_mode": {
    "name": "ipython",
    "version": 3
   },
   "file_extension": ".py",
   "mimetype": "text/x-python",
   "name": "python",
   "nbconvert_exporter": "python",
   "pygments_lexer": "ipython3",
   "version": "3.11.5"
  }
 },
 "nbformat": 4,
 "nbformat_minor": 2
}
